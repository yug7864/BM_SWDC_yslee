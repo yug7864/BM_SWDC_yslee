{
 "cells": [
  {
   "cell_type": "markdown",
   "metadata": {},
   "source": [
    "CNN 을 위한 Layer를 가지고옴 \n",
    "Conv2D , MaxPooling2D , Flatten , Dropout"
   ]
  },
  {
   "cell_type": "code",
   "execution_count": null,
   "metadata": {
    "collapsed": true
   },
   "outputs": [],
   "source": [
    "import numpy as np\n",
    "from keras.models import Sequential , load_model\n",
    "from keras.layers import Conv2D,Dense,Dropout,MaxPooling2D,Flatten\n",
    "from keras.utils import np_utils\n",
    "from keras.datasets import mnist\n",
    "from keras.callbacks import ModelCheckpoint\n",
    "from PIL import Image , ImageFilter\n",
    "import PIL.ImageOps"
   ]
  },
  {
   "cell_type": "markdown",
   "metadata": {},
   "source": [
    "레이어 구성 : [컨볼루션 3X3 32개 필터  x 2번 - 맥스풀링] 2회 - 마지막에는 항상 Flatten 을 사용해 1차원 값으로 변형 하여 신경망으로 연결"
   ]
  },
  {
   "cell_type": "code",
   "execution_count": 29,
   "metadata": {
    "collapsed": true
   },
   "outputs": [],
   "source": [
    "def makeModel():\n",
    "    model = Sequential()\n",
    "    model.add(Conv2D(32,(3,3), data_format=None,input_shape = (28,28,1), activation=\"relu\"))\n",
    "    model.add(Conv2D(32,(3,3),activation=\"relu\"))\n",
    "    model.add(MaxPooling2D(pool_size=(2, 2)))\n",
    "\n",
    "    model.add(Conv2D(32,(3,3),activation=\"relu\"))\n",
    "    model.add(Conv2D(32,(3,3),activation=\"relu\"))\n",
    "    model.add(MaxPooling2D(pool_size=(2, 2)))\n",
    "\n",
    "    model.add(Flatten())\n",
    "    model.add(Dense(128,activation='relu'))\n",
    "    model.add(Dropout(0.2))\n",
    "    model.add(Dense(10,activation='softmax'))\n",
    "\n",
    "    model.compile(loss=\"mean_squared_error\",\n",
    "                  optimizer='adam')\n",
    "\n",
    "    print(model.summary())\n",
    "    return model"
   ]
  },
  {
   "cell_type": "markdown",
   "metadata": {},
   "source": [
    "Keras datasets 에서 Mnist 데이터를불러온 다음 \n",
    "1. 0~1 사이의 값으면 변형해서 사용 \n",
    "2. 타겟(실제 값, 레이블) 은 원핫 인코딩을 사용해 10 개의 백터로 만들어 줍니다. "
   ]
  },
  {
   "cell_type": "code",
   "execution_count": 37,
   "metadata": {
    "collapsed": true
   },
   "outputs": [],
   "source": [
    "if __name__ == '__main__':\n",
    "    (x_train, y_train), (x_test, y_test) = mnist.load_data()\n",
    "\n",
    "    x_train = x_train.reshape(x_train.shape[0], 28,28,1).astype('float32')\n",
    "    x_test = x_test.reshape(x_test.shape[0], 28,28,1).astype('float32')\n",
    "\n",
    "    x_train = x_train/255\n",
    "    x_test = x_test/255\n",
    "\n",
    "    y_train = np_utils.to_categorical(y_train)\n",
    "    y_test = np_utils.to_categorical(y_test)   "
   ]
  },
  {
   "cell_type": "code",
   "execution_count": 38,
   "metadata": {},
   "outputs": [
    {
     "name": "stdout",
     "output_type": "stream",
     "text": [
      "_________________________________________________________________\n",
      "Layer (type)                 Output Shape              Param #   \n",
      "=================================================================\n",
      "conv2d_13 (Conv2D)           (None, 26, 26, 32)        320       \n",
      "_________________________________________________________________\n",
      "conv2d_14 (Conv2D)           (None, 24, 24, 32)        9248      \n",
      "_________________________________________________________________\n",
      "max_pooling2d_7 (MaxPooling2 (None, 12, 12, 32)        0         \n",
      "_________________________________________________________________\n",
      "conv2d_15 (Conv2D)           (None, 10, 10, 32)        9248      \n",
      "_________________________________________________________________\n",
      "conv2d_16 (Conv2D)           (None, 8, 8, 32)          9248      \n",
      "_________________________________________________________________\n",
      "max_pooling2d_8 (MaxPooling2 (None, 4, 4, 32)          0         \n",
      "_________________________________________________________________\n",
      "flatten_4 (Flatten)          (None, 512)               0         \n",
      "_________________________________________________________________\n",
      "dense_7 (Dense)              (None, 128)               65664     \n",
      "_________________________________________________________________\n",
      "dropout_4 (Dropout)          (None, 128)               0         \n",
      "_________________________________________________________________\n",
      "dense_8 (Dense)              (None, 10)                1290      \n",
      "=================================================================\n",
      "Total params: 95,018\n",
      "Trainable params: 95,018\n",
      "Non-trainable params: 0\n",
      "_________________________________________________________________\n",
      "None\n"
     ]
    },
    {
     "data": {
      "text/plain": [
       "'\\ncheckpoint = ModelCheckpoint(\"MnistCNN_CP.hdf5\")\\ncheckList = [checkpoint]\\n\\nmodel = makeModel()\\n\\nmodel.save(\"MnistCNNst.h5\")\\nmodel.fit(x_train,y_train,epochs=3,callbacks = checkList,verbose=1)\\nmodel.save_weights(\"MnistCNN_FinalW.hdf5\")\\n'"
      ]
     },
     "execution_count": 38,
     "metadata": {},
     "output_type": "execute_result"
    }
   ],
   "source": [
    "    makeModel()\n",
    "    \n",
    "    '''\n",
    "    checkpoint = ModelCheckpoint(\"MnistCNN_CP.hdf5\")\n",
    "    checkList = [checkpoint]\n",
    "\n",
    "    model = makeModel()\n",
    "\n",
    "    model.save(\"MnistCNNst.h5\")\n",
    "    model.fit(x_train,y_train,epochs=3,callbacks = checkList,verbose=1)\n",
    "    model.save_weights(\"MnistCNN_FinalW.hdf5\")\n",
    "    '''"
   ]
  },
  {
   "cell_type": "code",
   "execution_count": 39,
   "metadata": {
    "collapsed": true
   },
   "outputs": [],
   "source": [
    "    import os    \n",
    "    os.chdir(\"D://WS//Py\")\n",
    "    model = load_model(\"MnistCNNst.h5\")\n",
    "    model.load_weights(\"MnistCNN_CP.hdf5\")  "
   ]
  },
  {
   "cell_type": "code",
   "execution_count": 40,
   "metadata": {},
   "outputs": [
    {
     "name": "stdout",
     "output_type": "stream",
     "text": [
      "Predict is :  [2]\n"
     ]
    }
   ],
   "source": [
    "    input = x_test[1].reshape(1,28,28,1)\n",
    "    print(\"Predict is : \",model.predict_classes(input).round())\n",
    "    "
   ]
  },
  {
   "cell_type": "code",
   "execution_count": 41,
   "metadata": {},
   "outputs": [
    {
     "data": {
      "image/png": "[encoded data removed]",
      "text/plain": [
       "<matplotlib.figure.Figure at 0x1cb04a8f358>"
      ]
     },
     "metadata": {},
     "output_type": "display_data"
    }
   ],
   "source": [
    "    import matplotlib.pyplot as plt\n",
    "    img = input.reshape(28,28)\n",
    "    plt.imshow(img)\n",
    "    plt.show()"
   ]
  }
 ],
 "metadata": {
  "kernelspec": {
   "display_name": "Python 3",
   "language": "python",
   "name": "python3"
  },
  "language_info": {
   "codemirror_mode": {
    "name": "ipython",
    "version": 3
   },
   "file_extension": ".py",
   "mimetype": "text/x-python",
   "name": "python",
   "nbconvert_exporter": "python",
   "pygments_lexer": "ipython3",
   "version": "3.6.3"
  }
 },
 "nbformat": 4,
 "nbformat_minor": 2
}
